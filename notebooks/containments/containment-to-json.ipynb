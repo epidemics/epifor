{
 "cells": [
  {
   "cell_type": "markdown",
   "metadata": {},
   "source": [
    "Data download from https://www.notion.so/977d5e5be0434bf996704ec361ad621d?v=fe54f89ca9e04ac799af42b39e1efc4b -> export -> as CSV"
   ]
  },
  {
   "cell_type": "code",
   "execution_count": 6,
   "metadata": {},
   "outputs": [],
   "source": [
    "import json\n",
    "import pandas as pd\n",
    "import numpy as np"
   ]
  },
  {
   "cell_type": "code",
   "execution_count": 7,
   "metadata": {},
   "outputs": [],
   "source": [
    "cmap = json.load(open('country-mapping.json'))"
   ]
  },
  {
   "cell_type": "code",
   "execution_count": 8,
   "metadata": {},
   "outputs": [],
   "source": [
    "df = (\n",
    "    pd\n",
    "    .read_csv('containment.csv')\n",
    "    .dropna(subset=[\"Country\"])\n",
    "    .assign(\n",
    "    iso_alpha_3=lambda x: x[\"Country\"].map(\n",
    "        lambda y: cmap['US'] if y.startswith('US:') else cmap[y]),\n",
    "    sort_date_start=lambda df: df[\"Date Start\"].map(pd.to_datetime),\n",
    "    date_start=lambda df: df[\"sort_date_start\"].map(lambda x: x.isoformat()),\n",
    "    date_end=lambda df: df[\"Date end intended\"].map(lambda x: pd.to_datetime(x).isoformat()).map(lambda x: None if x == \"NaT\" else x),\n",
    "    keywords=lambda x: x[\"Keywords\"].dropna().map(lambda x: [y.strip() for y in x.split(',')]),\n",
    "    )\n",
    "    .sort_values('sort_date_start', ascending=True)\n",
    "    .rename(columns={\n",
    "        'Description of measure implemented': \"description\",\n",
    "        \"Source\": \"source\",\n",
    "        \"Country\": \"country\",\n",
    "    }\n",
    "    )\n",
    "    .filter(items=[\"iso_alpha_3\", \"date_start\", \"date_end\", \"country\", \"description\", \"keywords\", \"source\"])\n",
    "    .dropna(subset=[\"description\"])\n",
    "    .set_index('iso_alpha_3')  # not unique!\n",
    ")"
   ]
  },
  {
   "cell_type": "code",
   "execution_count": 9,
   "metadata": {},
   "outputs": [],
   "source": [
    "final_d = {}\n",
    "for iso in df.index.unique():\n",
    "    final_d[iso] = [rec.replace({np.nan: None}).to_dict() for _, rec in df.loc[[iso]].iterrows()]"
   ]
  },
  {
   "cell_type": "code",
   "execution_count": 10,
   "metadata": {},
   "outputs": [],
   "source": [
    "with open('data-containments.json', \"w\") as ofile:\n",
    "    json.dump(final_d, ofile)"
   ]
  },
  {
   "cell_type": "markdown",
   "metadata": {},
   "source": [
    "## Structure\n",
    "\n",
    "```\n",
    "{\n",
    "   \"<ISO-ALPHA3-CODE>\": [\n",
    "       {\"date_start\": str, \"date_end\": str, \"country\": str, \"keywords\": List[str], source: str}\n",
    "   ]\n",
    "}\n",
    "```"
   ]
  },
  {
   "cell_type": "markdown",
   "metadata": {},
   "source": [
    "## \"Test\""
   ]
  },
  {
   "cell_type": "code",
   "execution_count": 11,
   "metadata": {},
   "outputs": [
    {
     "data": {
      "text/plain": [
       "[{'date_start': '2020-03-10T00:00:00',\n",
       "  'date_end': None,\n",
       "  'country': 'Vatican City',\n",
       "  'description': 'Italy lockdown measures are also applied to the Vatican City.',\n",
       "  'keywords': ['blanket isolation - no symptoms',\n",
       "   'religious activity limitations',\n",
       "   'social distancing'],\n",
       "  'source': 'https://www.theguardian.com/world/video/2020/mar/10/st-peters-square-before-and-after-italys-nationwide-lockdown-video'}]"
      ]
     },
     "execution_count": 11,
     "metadata": {},
     "output_type": "execute_result"
    }
   ],
   "source": [
    "json.load(open('data-containments.json'))[\"VAT\"]"
   ]
  },
  {
   "cell_type": "markdown",
   "metadata": {},
   "source": [
    "## Upload"
   ]
  },
  {
   "cell_type": "code",
   "execution_count": 12,
   "metadata": {},
   "outputs": [
    {
     "name": "stdout",
     "output_type": "stream",
     "text": [
      "Copying file://data-containments.json [Content-Type=application/json]...\n",
      "- [1 files][567.1 KiB/567.1 KiB]                                                \n",
      "Operation completed over 1 objects/567.1 KiB.                                    \n"
     ]
    }
   ],
   "source": [
    "# this won't work for you if you don't have permissions\n",
    "! gsutil -h \"Cache-Control:public, max-age=10\" cp -a public-read data-containments.json gs://static-covid/static/data-main-containments.json"
   ]
  },
  {
   "cell_type": "code",
   "execution_count": null,
   "metadata": {},
   "outputs": [],
   "source": []
  }
 ],
 "metadata": {
  "kernelspec": {
   "display_name": "Python 3",
   "language": "python",
   "name": "python3"
  },
  "language_info": {
   "codemirror_mode": {
    "name": "ipython",
    "version": 3
   },
   "file_extension": ".py",
   "mimetype": "text/x-python",
   "name": "python",
   "nbconvert_exporter": "python",
   "pygments_lexer": "ipython3",
   "version": "3.8.1"
  }
 },
 "nbformat": 4,
 "nbformat_minor": 4
}
