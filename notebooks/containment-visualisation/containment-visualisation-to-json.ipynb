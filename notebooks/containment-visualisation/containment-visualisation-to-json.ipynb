{
 "cells": [
  {
   "cell_type": "code",
   "execution_count": 1,
   "metadata": {},
   "outputs": [],
   "source": [
    "import json\n",
    "import pandas as pd\n",
    "import numpy as np"
   ]
  },
  {
   "cell_type": "code",
   "execution_count": 2,
   "metadata": {},
   "outputs": [],
   "source": [
    "cmap = json.load(open('country-mapping.json'))"
   ]
  },
  {
   "cell_type": "code",
   "execution_count": 91,
   "metadata": {},
   "outputs": [
    {
     "output_type": "execute_result",
     "data": {
      "text/plain": "dict_keys(['Widespread mask usage (over 75%)', 'Confirmed case isolation', 'Contact isolation', 'Gatherings limited to', 'Some businesses suspended', 'Many businesses suspended', 'Schools and universities closed', 'Social distancing advised', 'Staying home advised', 'Test number (order of magnitude)', 'General curfew', 'Date'])"
     },
     "metadata": {},
     "execution_count": 91
    }
   ],
   "source": [
    "g = pd.read_csv('interventions_visualisation_categorical_2020_03_30.csv').groupby(\"Country\")\n",
    "df = g.get_group(\"Italy\").drop(columns=[\"Id\", \"Country\"])\n",
    "df.to_dict('list').keys()"
   ]
  },
  {
   "cell_type": "code",
   "execution_count": 111,
   "metadata": {},
   "outputs": [
    {
     "output_type": "execute_result",
     "data": {
      "text/plain": "{'Widespread mask usage (over 75%)': {'2019-12-18': 0},\n 'Confirmed case isolation': {'2019-12-18': 0},\n 'Contact isolation': {'2019-12-18': 0},\n 'Gatherings limited to': {'2019-12-18': 0, '2020-02-22': 100},\n 'Some businesses suspended': {'2019-12-18': 0},\n 'Many businesses suspended': {'2019-12-18': 0, '2020-02-22': 1},\n 'Schools and universities closed': {'2019-12-18': 0, '2020-01-29': 1},\n 'Social distancing advised': {'2019-12-18': 0},\n 'Staying home advised': {'2019-12-18': 0},\n 'Test number (order of magnitude)': {'2019-12-18': 0, '2020-03-20': 1000000},\n 'General curfew': {'2019-12-18': 0, '2020-02-22': 1, '2020-03-07': 2}}"
     },
     "metadata": {},
     "execution_count": 111
    }
   ],
   "source": [
    "final_d = {}\n",
    "for name, group in g:\n",
    "    iso = cmap['US'] if name.startswith('US:') else cmap[name]\n",
    "    df = group.set_index(\"Date\").drop(columns=[\"Id\", \"Country\"])\n",
    "\n",
    "    final_d[iso] = {}\n",
    "    for key in df:\n",
    "        final_d[iso][key] = df[key].drop_duplicates().to_dict()\n",
    "\n",
    "with open('data-containments.json', \"w\") as ofile:\n",
    "    json.dump(final_d, ofile)\n",
    "\n",
    "final_d[\"ITA\"]"
   ]
  }
 ],
 "metadata": {
  "kernelspec": {
   "display_name": "Python 3",
   "language": "python",
   "name": "python3"
  },
  "language_info": {
   "codemirror_mode": {
    "name": "ipython",
    "version": 3
   },
   "file_extension": ".py",
   "mimetype": "text/x-python",
   "name": "python",
   "nbconvert_exporter": "python",
   "pygments_lexer": "ipython3",
   "version": "3.7.5-final"
  }
 },
 "nbformat": 4,
 "nbformat_minor": 4
}