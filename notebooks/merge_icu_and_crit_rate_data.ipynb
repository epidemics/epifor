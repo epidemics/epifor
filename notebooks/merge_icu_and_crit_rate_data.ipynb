{
 "cells": [
  {
   "cell_type": "code",
   "execution_count": 1,
   "metadata": {},
   "outputs": [
    {
     "data": {
      "application/javascript": [
       "\n",
       "            setTimeout(function() {\n",
       "                var nbb_cell_id = 1;\n",
       "                var nbb_unformatted_code = \"%load_ext nb_black\";\n",
       "                var nbb_formatted_code = \"%load_ext nb_black\";\n",
       "                var nbb_cells = Jupyter.notebook.get_cells();\n",
       "                for (var i = 0; i < nbb_cells.length; ++i) {\n",
       "                    if (nbb_cells[i].input_prompt_number == nbb_cell_id) {\n",
       "                        if (nbb_cells[i].get_text() == nbb_unformatted_code) {\n",
       "                             nbb_cells[i].set_text(nbb_formatted_code);\n",
       "                        }\n",
       "                        break;\n",
       "                    }\n",
       "                }\n",
       "            }, 500);\n",
       "            "
      ],
      "text/plain": [
       "<IPython.core.display.Javascript object>"
      ]
     },
     "metadata": {},
     "output_type": "display_data"
    }
   ],
   "source": [
    "%load_ext nb_black"
   ]
  },
  {
   "cell_type": "code",
   "execution_count": 2,
   "metadata": {},
   "outputs": [
    {
     "data": {
      "application/javascript": [
       "\n",
       "            setTimeout(function() {\n",
       "                var nbb_cell_id = 2;\n",
       "                var nbb_unformatted_code = \"import pandas as pd\";\n",
       "                var nbb_formatted_code = \"import pandas as pd\";\n",
       "                var nbb_cells = Jupyter.notebook.get_cells();\n",
       "                for (var i = 0; i < nbb_cells.length; ++i) {\n",
       "                    if (nbb_cells[i].input_prompt_number == nbb_cell_id) {\n",
       "                        if (nbb_cells[i].get_text() == nbb_unformatted_code) {\n",
       "                             nbb_cells[i].set_text(nbb_formatted_code);\n",
       "                        }\n",
       "                        break;\n",
       "                    }\n",
       "                }\n",
       "            }, 500);\n",
       "            "
      ],
      "text/plain": [
       "<IPython.core.display.Javascript object>"
      ]
     },
     "metadata": {},
     "output_type": "display_data"
    }
   ],
   "source": [
    "import pandas as pd"
   ]
  },
  {
   "cell_type": "code",
   "execution_count": 3,
   "metadata": {},
   "outputs": [
    {
     "data": {
      "application/javascript": [
       "\n",
       "            setTimeout(function() {\n",
       "                var nbb_cell_id = 3;\n",
       "                var nbb_unformatted_code = \"beds = pd.read_csv(\\n    \\\"../beds.csv\\\",\\n    names=[\\n        \\\"country\\\",\\n        \\\"critical_beds_per_100k\\\",\\n        \\\"capacity_active_infection_percent\\\",\\n        \\\"capacity_new_infections_per_day_per_1000\\\",\\n        \\\"year\\\",\\n        \\\"source\\\",\\n    ],\\n)\";\n",
       "                var nbb_formatted_code = \"beds = pd.read_csv(\\n    \\\"../beds.csv\\\",\\n    names=[\\n        \\\"country\\\",\\n        \\\"critical_beds_per_100k\\\",\\n        \\\"capacity_active_infection_percent\\\",\\n        \\\"capacity_new_infections_per_day_per_1000\\\",\\n        \\\"year\\\",\\n        \\\"source\\\",\\n    ],\\n)\";\n",
       "                var nbb_cells = Jupyter.notebook.get_cells();\n",
       "                for (var i = 0; i < nbb_cells.length; ++i) {\n",
       "                    if (nbb_cells[i].input_prompt_number == nbb_cell_id) {\n",
       "                        if (nbb_cells[i].get_text() == nbb_unformatted_code) {\n",
       "                             nbb_cells[i].set_text(nbb_formatted_code);\n",
       "                        }\n",
       "                        break;\n",
       "                    }\n",
       "                }\n",
       "            }, 500);\n",
       "            "
      ],
      "text/plain": [
       "<IPython.core.display.Javascript object>"
      ]
     },
     "metadata": {},
     "output_type": "display_data"
    }
   ],
   "source": [
    "beds = pd.read_csv(\n",
    "    \"../beds.csv\",\n",
    "    names=[\n",
    "        \"country\",\n",
    "        \"critical_beds_per_100k\",\n",
    "        \"capacity_active_infection_percent\",\n",
    "        \"capacity_new_infections_per_day_per_1000\",\n",
    "        \"year\",\n",
    "        \"source\",\n",
    "    ],\n",
    ")"
   ]
  },
  {
   "cell_type": "code",
   "execution_count": 4,
   "metadata": {},
   "outputs": [
    {
     "data": {
      "text/html": [
       "<div>\n",
       "<style scoped>\n",
       "    .dataframe tbody tr th:only-of-type {\n",
       "        vertical-align: middle;\n",
       "    }\n",
       "\n",
       "    .dataframe tbody tr th {\n",
       "        vertical-align: top;\n",
       "    }\n",
       "\n",
       "    .dataframe thead th {\n",
       "        text-align: right;\n",
       "    }\n",
       "</style>\n",
       "<table border=\"1\" class=\"dataframe\">\n",
       "  <thead>\n",
       "    <tr style=\"text-align: right;\">\n",
       "      <th></th>\n",
       "      <th>country</th>\n",
       "      <th>critical_beds_per_100k</th>\n",
       "      <th>capacity_active_infection_percent</th>\n",
       "      <th>capacity_new_infections_per_day_per_1000</th>\n",
       "      <th>year</th>\n",
       "      <th>source</th>\n",
       "    </tr>\n",
       "  </thead>\n",
       "  <tbody>\n",
       "    <tr>\n",
       "      <th>50</th>\n",
       "      <td>Spain</td>\n",
       "      <td>9.7</td>\n",
       "      <td>0.1552</td>\n",
       "      <td>0.110857</td>\n",
       "      <td>NaN</td>\n",
       "      <td>https://www.statista.com/chart/21105/number-of...</td>\n",
       "    </tr>\n",
       "  </tbody>\n",
       "</table>\n",
       "</div>"
      ],
      "text/plain": [
       "   country  critical_beds_per_100k  capacity_active_infection_percent  \\\n",
       "50   Spain                     9.7                             0.1552   \n",
       "\n",
       "    capacity_new_infections_per_day_per_1000  year  \\\n",
       "50                                  0.110857   NaN   \n",
       "\n",
       "                                               source  \n",
       "50  https://www.statista.com/chart/21105/number-of...  "
      ]
     },
     "execution_count": 4,
     "metadata": {},
     "output_type": "execute_result"
    },
    {
     "data": {
      "application/javascript": [
       "\n",
       "            setTimeout(function() {\n",
       "                var nbb_cell_id = 4;\n",
       "                var nbb_unformatted_code = \"beds[beds.country.duplicated(keep=\\\"last\\\")]\";\n",
       "                var nbb_formatted_code = \"beds[beds.country.duplicated(keep=\\\"last\\\")]\";\n",
       "                var nbb_cells = Jupyter.notebook.get_cells();\n",
       "                for (var i = 0; i < nbb_cells.length; ++i) {\n",
       "                    if (nbb_cells[i].input_prompt_number == nbb_cell_id) {\n",
       "                        if (nbb_cells[i].get_text() == nbb_unformatted_code) {\n",
       "                             nbb_cells[i].set_text(nbb_formatted_code);\n",
       "                        }\n",
       "                        break;\n",
       "                    }\n",
       "                }\n",
       "            }, 500);\n",
       "            "
      ],
      "text/plain": [
       "<IPython.core.display.Javascript object>"
      ]
     },
     "metadata": {},
     "output_type": "display_data"
    }
   ],
   "source": [
    "beds[beds.country.duplicated(keep=\"last\")]"
   ]
  },
  {
   "cell_type": "code",
   "execution_count": 25,
   "metadata": {},
   "outputs": [
    {
     "data": {
      "application/javascript": [
       "\n",
       "            setTimeout(function() {\n",
       "                var nbb_cell_id = 25;\n",
       "                var nbb_unformatted_code = \"beds = beds[beds.country != \\\"Netherlands\\\"]  # duplicated with \\\"The Netherlands\\\"\\nbeds = beds[beds.country != \\\"Dubai\\\"]  # Dubai is missing data\\nbeds = beds[beds.country != \\\"Russia\\\"]  # Russia is missing data\\nbeds = beds[~beds.country.duplicated(keep=\\\"last\\\")]  # Spain is there twice\";\n",
       "                var nbb_formatted_code = \"beds = beds[beds.country != \\\"Netherlands\\\"]  # duplicated with \\\"The Netherlands\\\"\\nbeds = beds[beds.country != \\\"Dubai\\\"]  # Dubai is missing data\\nbeds = beds[beds.country != \\\"Russia\\\"]  # Russia is missing data\\nbeds = beds[~beds.country.duplicated(keep=\\\"last\\\")]  # Spain is there twice\";\n",
       "                var nbb_cells = Jupyter.notebook.get_cells();\n",
       "                for (var i = 0; i < nbb_cells.length; ++i) {\n",
       "                    if (nbb_cells[i].input_prompt_number == nbb_cell_id) {\n",
       "                        if (nbb_cells[i].get_text() == nbb_unformatted_code) {\n",
       "                             nbb_cells[i].set_text(nbb_formatted_code);\n",
       "                        }\n",
       "                        break;\n",
       "                    }\n",
       "                }\n",
       "            }, 500);\n",
       "            "
      ],
      "text/plain": [
       "<IPython.core.display.Javascript object>"
      ]
     },
     "metadata": {},
     "output_type": "display_data"
    }
   ],
   "source": [
    "beds = beds[beds.country != \"Netherlands\"]  # duplicated with \"The Netherlands\"\n",
    "beds = beds[beds.country != \"Dubai\"]  # Dubai is missing data\n",
    "beds = beds[beds.country != \"Russia\"]  # Russia is missing data\n",
    "beds = beds[~beds.country.duplicated(keep=\"last\")]  # Spain is there twice"
   ]
  },
  {
   "cell_type": "code",
   "execution_count": 26,
   "metadata": {},
   "outputs": [
    {
     "data": {
      "application/javascript": [
       "\n",
       "            setTimeout(function() {\n",
       "                var nbb_cell_id = 26;\n",
       "                var nbb_unformatted_code = \"rates = pd.read_csv(\\\"rates.txt\\\")\";\n",
       "                var nbb_formatted_code = \"rates = pd.read_csv(\\\"rates.txt\\\")\";\n",
       "                var nbb_cells = Jupyter.notebook.get_cells();\n",
       "                for (var i = 0; i < nbb_cells.length; ++i) {\n",
       "                    if (nbb_cells[i].input_prompt_number == nbb_cell_id) {\n",
       "                        if (nbb_cells[i].get_text() == nbb_unformatted_code) {\n",
       "                             nbb_cells[i].set_text(nbb_formatted_code);\n",
       "                        }\n",
       "                        break;\n",
       "                    }\n",
       "                }\n",
       "            }, 500);\n",
       "            "
      ],
      "text/plain": [
       "<IPython.core.display.Javascript object>"
      ]
     },
     "metadata": {},
     "output_type": "display_data"
    }
   ],
   "source": [
    "rates = pd.read_csv(\"rates.txt\")"
   ]
  },
  {
   "cell_type": "code",
   "execution_count": 27,
   "metadata": {},
   "outputs": [
    {
     "data": {
      "text/html": [
       "<div>\n",
       "<style scoped>\n",
       "    .dataframe tbody tr th:only-of-type {\n",
       "        vertical-align: middle;\n",
       "    }\n",
       "\n",
       "    .dataframe tbody tr th {\n",
       "        vertical-align: top;\n",
       "    }\n",
       "\n",
       "    .dataframe thead th {\n",
       "        text-align: right;\n",
       "    }\n",
       "</style>\n",
       "<table border=\"1\" class=\"dataframe\">\n",
       "  <thead>\n",
       "    <tr style=\"text-align: right;\">\n",
       "      <th></th>\n",
       "      <th>Region</th>\n",
       "      <th>Hosp. rate</th>\n",
       "      <th>Crit rate</th>\n",
       "      <th>Fatality rate</th>\n",
       "    </tr>\n",
       "  </thead>\n",
       "  <tbody>\n",
       "    <tr>\n",
       "      <th>0</th>\n",
       "      <td>WORLD</td>\n",
       "      <td>0.051678</td>\n",
       "      <td>0.013351</td>\n",
       "      <td>0.006457</td>\n",
       "    </tr>\n",
       "    <tr>\n",
       "      <th>1</th>\n",
       "      <td>UN development groups</td>\n",
       "      <td>0.122905</td>\n",
       "      <td>0.062122</td>\n",
       "      <td>0.029922</td>\n",
       "    </tr>\n",
       "    <tr>\n",
       "      <th>2</th>\n",
       "      <td>More developed regions</td>\n",
       "      <td>0.081276</td>\n",
       "      <td>0.026824</td>\n",
       "      <td>0.012962</td>\n",
       "    </tr>\n",
       "    <tr>\n",
       "      <th>3</th>\n",
       "      <td>Less developed regions</td>\n",
       "      <td>0.045899</td>\n",
       "      <td>0.010721</td>\n",
       "      <td>0.005187</td>\n",
       "    </tr>\n",
       "    <tr>\n",
       "      <th>4</th>\n",
       "      <td>Least developed countries</td>\n",
       "      <td>0.028594</td>\n",
       "      <td>0.005635</td>\n",
       "      <td>0.002727</td>\n",
       "    </tr>\n",
       "    <tr>\n",
       "      <th>...</th>\n",
       "      <td>...</td>\n",
       "      <td>...</td>\n",
       "      <td>...</td>\n",
       "      <td>...</td>\n",
       "    </tr>\n",
       "    <tr>\n",
       "      <th>250</th>\n",
       "      <td>Netherlands</td>\n",
       "      <td>0.083542</td>\n",
       "      <td>0.027369</td>\n",
       "      <td>0.013229</td>\n",
       "    </tr>\n",
       "    <tr>\n",
       "      <th>251</th>\n",
       "      <td>Switzerland</td>\n",
       "      <td>0.082858</td>\n",
       "      <td>0.027160</td>\n",
       "      <td>0.013125</td>\n",
       "    </tr>\n",
       "    <tr>\n",
       "      <th>252</th>\n",
       "      <td>NORTHERN AMERICA</td>\n",
       "      <td>0.073860</td>\n",
       "      <td>0.023118</td>\n",
       "      <td>0.011175</td>\n",
       "    </tr>\n",
       "    <tr>\n",
       "      <th>253</th>\n",
       "      <td>Canada</td>\n",
       "      <td>0.079015</td>\n",
       "      <td>0.025041</td>\n",
       "      <td>0.012104</td>\n",
       "    </tr>\n",
       "    <tr>\n",
       "      <th>254</th>\n",
       "      <td>United States of America</td>\n",
       "      <td>0.073271</td>\n",
       "      <td>0.022899</td>\n",
       "      <td>0.011069</td>\n",
       "    </tr>\n",
       "  </tbody>\n",
       "</table>\n",
       "<p>255 rows × 4 columns</p>\n",
       "</div>"
      ],
      "text/plain": [
       "                        Region  Hosp. rate  Crit rate  Fatality rate\n",
       "0                        WORLD    0.051678   0.013351       0.006457\n",
       "1        UN development groups    0.122905   0.062122       0.029922\n",
       "2       More developed regions    0.081276   0.026824       0.012962\n",
       "3       Less developed regions    0.045899   0.010721       0.005187\n",
       "4    Least developed countries    0.028594   0.005635       0.002727\n",
       "..                         ...         ...        ...            ...\n",
       "250                Netherlands    0.083542   0.027369       0.013229\n",
       "251                Switzerland    0.082858   0.027160       0.013125\n",
       "252           NORTHERN AMERICA    0.073860   0.023118       0.011175\n",
       "253                     Canada    0.079015   0.025041       0.012104\n",
       "254   United States of America    0.073271   0.022899       0.011069\n",
       "\n",
       "[255 rows x 4 columns]"
      ]
     },
     "execution_count": 27,
     "metadata": {},
     "output_type": "execute_result"
    },
    {
     "data": {
      "application/javascript": [
       "\n",
       "            setTimeout(function() {\n",
       "                var nbb_cell_id = 27;\n",
       "                var nbb_unformatted_code = \"rates\";\n",
       "                var nbb_formatted_code = \"rates\";\n",
       "                var nbb_cells = Jupyter.notebook.get_cells();\n",
       "                for (var i = 0; i < nbb_cells.length; ++i) {\n",
       "                    if (nbb_cells[i].input_prompt_number == nbb_cell_id) {\n",
       "                        if (nbb_cells[i].get_text() == nbb_unformatted_code) {\n",
       "                             nbb_cells[i].set_text(nbb_formatted_code);\n",
       "                        }\n",
       "                        break;\n",
       "                    }\n",
       "                }\n",
       "            }, 500);\n",
       "            "
      ],
      "text/plain": [
       "<IPython.core.display.Javascript object>"
      ]
     },
     "metadata": {},
     "output_type": "display_data"
    }
   ],
   "source": [
    "rates"
   ]
  },
  {
   "cell_type": "markdown",
   "metadata": {},
   "source": [
    "This replacement needs to be done, so that the names of the regions correspond"
   ]
  },
  {
   "cell_type": "code",
   "execution_count": 28,
   "metadata": {},
   "outputs": [
    {
     "data": {
      "application/javascript": [
       "\n",
       "            setTimeout(function() {\n",
       "                var nbb_cell_id = 28;\n",
       "                var nbb_unformatted_code = \"to_replace = {\\n    \\\"Czechia\\\": \\\"Czech Republic\\\",\\n    \\\"Brunei Darussalam\\\": \\\"Brunei\\\",\\n    \\\"United Arab Emirates\\\": \\\"Dubai\\\",\\n    \\\"China, Hong Kong SAR\\\": \\\"Hong Kong\\\",\\n    \\\"Lao People's Democratic Republic\\\": \\\"Laos\\\",\\n    \\\"China, Taiwan Province of China\\\": \\\"Taiwan\\\",\\n    \\\"Russian Federation\\\": \\\"Russia\\\",\\n    \\\"Netherlands\\\": \\\"The Netherlands\\\",\\n    \\\"United States of America\\\": \\\"United States\\\",\\n}\";\n",
       "                var nbb_formatted_code = \"to_replace = {\\n    \\\"Czechia\\\": \\\"Czech Republic\\\",\\n    \\\"Brunei Darussalam\\\": \\\"Brunei\\\",\\n    \\\"United Arab Emirates\\\": \\\"Dubai\\\",\\n    \\\"China, Hong Kong SAR\\\": \\\"Hong Kong\\\",\\n    \\\"Lao People's Democratic Republic\\\": \\\"Laos\\\",\\n    \\\"China, Taiwan Province of China\\\": \\\"Taiwan\\\",\\n    \\\"Russian Federation\\\": \\\"Russia\\\",\\n    \\\"Netherlands\\\": \\\"The Netherlands\\\",\\n    \\\"United States of America\\\": \\\"United States\\\",\\n}\";\n",
       "                var nbb_cells = Jupyter.notebook.get_cells();\n",
       "                for (var i = 0; i < nbb_cells.length; ++i) {\n",
       "                    if (nbb_cells[i].input_prompt_number == nbb_cell_id) {\n",
       "                        if (nbb_cells[i].get_text() == nbb_unformatted_code) {\n",
       "                             nbb_cells[i].set_text(nbb_formatted_code);\n",
       "                        }\n",
       "                        break;\n",
       "                    }\n",
       "                }\n",
       "            }, 500);\n",
       "            "
      ],
      "text/plain": [
       "<IPython.core.display.Javascript object>"
      ]
     },
     "metadata": {},
     "output_type": "display_data"
    }
   ],
   "source": [
    "to_replace = {\n",
    "    \"Czechia\": \"Czech Republic\",\n",
    "    \"Brunei Darussalam\": \"Brunei\",\n",
    "    \"United Arab Emirates\": \"Dubai\",\n",
    "    \"China, Hong Kong SAR\": \"Hong Kong\",\n",
    "    \"Lao People's Democratic Republic\": \"Laos\",\n",
    "    \"China, Taiwan Province of China\": \"Taiwan\",\n",
    "    \"Russian Federation\": \"Russia\",\n",
    "    \"Netherlands\": \"The Netherlands\",\n",
    "    \"United States of America\": \"United States\",\n",
    "}"
   ]
  },
  {
   "cell_type": "code",
   "execution_count": 29,
   "metadata": {},
   "outputs": [
    {
     "data": {
      "application/javascript": [
       "\n",
       "            setTimeout(function() {\n",
       "                var nbb_cell_id = 29;\n",
       "                var nbb_unformatted_code = \"rates.loc[:, \\\"Region\\\"] = rates.loc[:, \\\"Region\\\"].replace(to_replace)\";\n",
       "                var nbb_formatted_code = \"rates.loc[:, \\\"Region\\\"] = rates.loc[:, \\\"Region\\\"].replace(to_replace)\";\n",
       "                var nbb_cells = Jupyter.notebook.get_cells();\n",
       "                for (var i = 0; i < nbb_cells.length; ++i) {\n",
       "                    if (nbb_cells[i].input_prompt_number == nbb_cell_id) {\n",
       "                        if (nbb_cells[i].get_text() == nbb_unformatted_code) {\n",
       "                             nbb_cells[i].set_text(nbb_formatted_code);\n",
       "                        }\n",
       "                        break;\n",
       "                    }\n",
       "                }\n",
       "            }, 500);\n",
       "            "
      ],
      "text/plain": [
       "<IPython.core.display.Javascript object>"
      ]
     },
     "metadata": {},
     "output_type": "display_data"
    }
   ],
   "source": [
    "rates.loc[:, \"Region\"] = rates.loc[:, \"Region\"].replace(to_replace)"
   ]
  },
  {
   "cell_type": "code",
   "execution_count": 30,
   "metadata": {},
   "outputs": [
    {
     "data": {
      "application/javascript": [
       "\n",
       "            setTimeout(function() {\n",
       "                var nbb_cell_id = 30;\n",
       "                var nbb_unformatted_code = \"countries_with_beds_and_rates = set(beds[\\\"country\\\"]).intersection(set(rates[\\\"Region\\\"]))\";\n",
       "                var nbb_formatted_code = \"countries_with_beds_and_rates = set(beds[\\\"country\\\"]).intersection(set(rates[\\\"Region\\\"]))\";\n",
       "                var nbb_cells = Jupyter.notebook.get_cells();\n",
       "                for (var i = 0; i < nbb_cells.length; ++i) {\n",
       "                    if (nbb_cells[i].input_prompt_number == nbb_cell_id) {\n",
       "                        if (nbb_cells[i].get_text() == nbb_unformatted_code) {\n",
       "                             nbb_cells[i].set_text(nbb_formatted_code);\n",
       "                        }\n",
       "                        break;\n",
       "                    }\n",
       "                }\n",
       "            }, 500);\n",
       "            "
      ],
      "text/plain": [
       "<IPython.core.display.Javascript object>"
      ]
     },
     "metadata": {},
     "output_type": "display_data"
    }
   ],
   "source": [
    "countries_with_beds_and_rates = set(beds[\"country\"]).intersection(set(rates[\"Region\"]))"
   ]
  },
  {
   "cell_type": "code",
   "execution_count": 31,
   "metadata": {},
   "outputs": [
    {
     "data": {
      "application/javascript": [
       "\n",
       "            setTimeout(function() {\n",
       "                var nbb_cell_id = 31;\n",
       "                var nbb_unformatted_code = \"countries_with_beds_without_rates = set(beds[\\\"country\\\"]).difference(\\n    set(rates[\\\"Region\\\"])\\n)\";\n",
       "                var nbb_formatted_code = \"countries_with_beds_without_rates = set(beds[\\\"country\\\"]).difference(\\n    set(rates[\\\"Region\\\"])\\n)\";\n",
       "                var nbb_cells = Jupyter.notebook.get_cells();\n",
       "                for (var i = 0; i < nbb_cells.length; ++i) {\n",
       "                    if (nbb_cells[i].input_prompt_number == nbb_cell_id) {\n",
       "                        if (nbb_cells[i].get_text() == nbb_unformatted_code) {\n",
       "                             nbb_cells[i].set_text(nbb_formatted_code);\n",
       "                        }\n",
       "                        break;\n",
       "                    }\n",
       "                }\n",
       "            }, 500);\n",
       "            "
      ],
      "text/plain": [
       "<IPython.core.display.Javascript object>"
      ]
     },
     "metadata": {},
     "output_type": "display_data"
    }
   ],
   "source": [
    "countries_with_beds_without_rates = set(beds[\"country\"]).difference(\n",
    "    set(rates[\"Region\"])\n",
    ")"
   ]
  },
  {
   "cell_type": "code",
   "execution_count": 32,
   "metadata": {},
   "outputs": [
    {
     "data": {
      "text/plain": [
       "{'Andorra'}"
      ]
     },
     "execution_count": 32,
     "metadata": {},
     "output_type": "execute_result"
    },
    {
     "data": {
      "application/javascript": [
       "\n",
       "            setTimeout(function() {\n",
       "                var nbb_cell_id = 32;\n",
       "                var nbb_unformatted_code = \"countries_with_beds_without_rates\";\n",
       "                var nbb_formatted_code = \"countries_with_beds_without_rates\";\n",
       "                var nbb_cells = Jupyter.notebook.get_cells();\n",
       "                for (var i = 0; i < nbb_cells.length; ++i) {\n",
       "                    if (nbb_cells[i].input_prompt_number == nbb_cell_id) {\n",
       "                        if (nbb_cells[i].get_text() == nbb_unformatted_code) {\n",
       "                             nbb_cells[i].set_text(nbb_formatted_code);\n",
       "                        }\n",
       "                        break;\n",
       "                    }\n",
       "                }\n",
       "            }, 500);\n",
       "            "
      ],
      "text/plain": [
       "<IPython.core.display.Javascript object>"
      ]
     },
     "metadata": {},
     "output_type": "display_data"
    }
   ],
   "source": [
    "countries_with_beds_without_rates"
   ]
  },
  {
   "cell_type": "code",
   "execution_count": 33,
   "metadata": {},
   "outputs": [
    {
     "data": {
      "application/javascript": [
       "\n",
       "            setTimeout(function() {\n",
       "                var nbb_cell_id = 33;\n",
       "                var nbb_unformatted_code = \"beds_and_crit_rates = (\\n    pd.merge(\\n        beds.loc[:, [\\\"country\\\", \\\"critical_beds_per_100k\\\"]],\\n        rates.loc[:, [\\\"Region\\\", \\\"Crit rate\\\"]],\\n        how=\\\"left\\\",\\n        left_on=\\\"country\\\",\\n        right_on=\\\"Region\\\",\\n    )\\n    .drop(columns=[\\\"Region\\\"])\\n    .rename(columns={\\\"Crit rate\\\": \\\"crit_rate\\\"})\\n    .set_index(\\\"country\\\")\\n)\";\n",
       "                var nbb_formatted_code = \"beds_and_crit_rates = (\\n    pd.merge(\\n        beds.loc[:, [\\\"country\\\", \\\"critical_beds_per_100k\\\"]],\\n        rates.loc[:, [\\\"Region\\\", \\\"Crit rate\\\"]],\\n        how=\\\"left\\\",\\n        left_on=\\\"country\\\",\\n        right_on=\\\"Region\\\",\\n    )\\n    .drop(columns=[\\\"Region\\\"])\\n    .rename(columns={\\\"Crit rate\\\": \\\"crit_rate\\\"})\\n    .set_index(\\\"country\\\")\\n)\";\n",
       "                var nbb_cells = Jupyter.notebook.get_cells();\n",
       "                for (var i = 0; i < nbb_cells.length; ++i) {\n",
       "                    if (nbb_cells[i].input_prompt_number == nbb_cell_id) {\n",
       "                        if (nbb_cells[i].get_text() == nbb_unformatted_code) {\n",
       "                             nbb_cells[i].set_text(nbb_formatted_code);\n",
       "                        }\n",
       "                        break;\n",
       "                    }\n",
       "                }\n",
       "            }, 500);\n",
       "            "
      ],
      "text/plain": [
       "<IPython.core.display.Javascript object>"
      ]
     },
     "metadata": {},
     "output_type": "display_data"
    }
   ],
   "source": [
    "beds_and_crit_rates = (\n",
    "    pd.merge(\n",
    "        beds.loc[:, [\"country\", \"critical_beds_per_100k\"]],\n",
    "        rates.loc[:, [\"Region\", \"Crit rate\"]],\n",
    "        how=\"left\",\n",
    "        left_on=\"country\",\n",
    "        right_on=\"Region\",\n",
    "    )\n",
    "    .drop(columns=[\"Region\"])\n",
    "    .rename(columns={\"Crit rate\": \"crit_rate\"})\n",
    "    .set_index(\"country\")\n",
    ")"
   ]
  },
  {
   "cell_type": "code",
   "execution_count": 34,
   "metadata": {},
   "outputs": [
    {
     "data": {
      "text/html": [
       "<div>\n",
       "<style scoped>\n",
       "    .dataframe tbody tr th:only-of-type {\n",
       "        vertical-align: middle;\n",
       "    }\n",
       "\n",
       "    .dataframe tbody tr th {\n",
       "        vertical-align: top;\n",
       "    }\n",
       "\n",
       "    .dataframe thead th {\n",
       "        text-align: right;\n",
       "    }\n",
       "</style>\n",
       "<table border=\"1\" class=\"dataframe\">\n",
       "  <thead>\n",
       "    <tr style=\"text-align: right;\">\n",
       "      <th></th>\n",
       "      <th>critical_beds_per_100k</th>\n",
       "      <th>crit_rate</th>\n",
       "    </tr>\n",
       "    <tr>\n",
       "      <th>country</th>\n",
       "      <th></th>\n",
       "      <th></th>\n",
       "    </tr>\n",
       "  </thead>\n",
       "  <tbody>\n",
       "    <tr>\n",
       "      <th>Andorra</th>\n",
       "      <td>7.1</td>\n",
       "      <td>NaN</td>\n",
       "    </tr>\n",
       "  </tbody>\n",
       "</table>\n",
       "</div>"
      ],
      "text/plain": [
       "         critical_beds_per_100k  crit_rate\n",
       "country                                   \n",
       "Andorra                     7.1        NaN"
      ]
     },
     "execution_count": 34,
     "metadata": {},
     "output_type": "execute_result"
    },
    {
     "data": {
      "application/javascript": [
       "\n",
       "            setTimeout(function() {\n",
       "                var nbb_cell_id = 34;\n",
       "                var nbb_unformatted_code = \"beds_and_crit_rates[\\n    beds_and_crit_rates.loc[:, \\\"crit_rate\\\"].isna()\\n]  # only Andorra is missing critical region\";\n",
       "                var nbb_formatted_code = \"beds_and_crit_rates[\\n    beds_and_crit_rates.loc[:, \\\"crit_rate\\\"].isna()\\n]  # only Andorra is missing critical region\";\n",
       "                var nbb_cells = Jupyter.notebook.get_cells();\n",
       "                for (var i = 0; i < nbb_cells.length; ++i) {\n",
       "                    if (nbb_cells[i].input_prompt_number == nbb_cell_id) {\n",
       "                        if (nbb_cells[i].get_text() == nbb_unformatted_code) {\n",
       "                             nbb_cells[i].set_text(nbb_formatted_code);\n",
       "                        }\n",
       "                        break;\n",
       "                    }\n",
       "                }\n",
       "            }, 500);\n",
       "            "
      ],
      "text/plain": [
       "<IPython.core.display.Javascript object>"
      ]
     },
     "metadata": {},
     "output_type": "display_data"
    }
   ],
   "source": [
    "beds_and_crit_rates[\n",
    "    beds_and_crit_rates.loc[:, \"crit_rate\"].isna()\n",
    "]  # only Andorra is missing critical region"
   ]
  },
  {
   "cell_type": "code",
   "execution_count": 35,
   "metadata": {},
   "outputs": [
    {
     "data": {
      "application/javascript": [
       "\n",
       "            setTimeout(function() {\n",
       "                var nbb_cell_id = 35;\n",
       "                var nbb_unformatted_code = \"beds_and_crit_rates.loc[\\n    \\\"Andorra\\\", \\\"crit_rate\\\"\\n] = 0.026823769456994696  # \\\"More developed regions\\\" crit. rate\";\n",
       "                var nbb_formatted_code = \"beds_and_crit_rates.loc[\\n    \\\"Andorra\\\", \\\"crit_rate\\\"\\n] = 0.026823769456994696  # \\\"More developed regions\\\" crit. rate\";\n",
       "                var nbb_cells = Jupyter.notebook.get_cells();\n",
       "                for (var i = 0; i < nbb_cells.length; ++i) {\n",
       "                    if (nbb_cells[i].input_prompt_number == nbb_cell_id) {\n",
       "                        if (nbb_cells[i].get_text() == nbb_unformatted_code) {\n",
       "                             nbb_cells[i].set_text(nbb_formatted_code);\n",
       "                        }\n",
       "                        break;\n",
       "                    }\n",
       "                }\n",
       "            }, 500);\n",
       "            "
      ],
      "text/plain": [
       "<IPython.core.display.Javascript object>"
      ]
     },
     "metadata": {},
     "output_type": "display_data"
    }
   ],
   "source": [
    "beds_and_crit_rates.loc[\n",
    "    \"Andorra\", \"crit_rate\"\n",
    "] = 0.026823769456994696  # \"More developed regions\" crit. rate"
   ]
  },
  {
   "cell_type": "code",
   "execution_count": 36,
   "metadata": {},
   "outputs": [
    {
     "data": {
      "application/javascript": [
       "\n",
       "            setTimeout(function() {\n",
       "                var nbb_cell_id = 36;\n",
       "                var nbb_unformatted_code = \"def max_percentage_infected_for_sufficient_icu_beds(df):\\n    return (df[\\\"critical_beds_per_100k\\\"] / 1000) * (0.8 / df[\\\"crit_rate\\\"])\";\n",
       "                var nbb_formatted_code = \"def max_percentage_infected_for_sufficient_icu_beds(df):\\n    return (df[\\\"critical_beds_per_100k\\\"] / 1000) * (0.8 / df[\\\"crit_rate\\\"])\";\n",
       "                var nbb_cells = Jupyter.notebook.get_cells();\n",
       "                for (var i = 0; i < nbb_cells.length; ++i) {\n",
       "                    if (nbb_cells[i].input_prompt_number == nbb_cell_id) {\n",
       "                        if (nbb_cells[i].get_text() == nbb_unformatted_code) {\n",
       "                             nbb_cells[i].set_text(nbb_formatted_code);\n",
       "                        }\n",
       "                        break;\n",
       "                    }\n",
       "                }\n",
       "            }, 500);\n",
       "            "
      ],
      "text/plain": [
       "<IPython.core.display.Javascript object>"
      ]
     },
     "metadata": {},
     "output_type": "display_data"
    }
   ],
   "source": [
    "def max_percentage_infected_for_sufficient_icu_beds(df):\n",
    "    return (df[\"critical_beds_per_100k\"] / 1000) * (0.8 / df[\"crit_rate\"])"
   ]
  },
  {
   "cell_type": "code",
   "execution_count": 37,
   "metadata": {},
   "outputs": [
    {
     "data": {
      "application/javascript": [
       "\n",
       "            setTimeout(function() {\n",
       "                var nbb_cell_id = 37;\n",
       "                var nbb_unformatted_code = \"final_data = beds_and_crit_rates.assign(\\n    max_percentage_infected_for_icu_beds=max_percentage_infected_for_sufficient_icu_beds,\\n)\";\n",
       "                var nbb_formatted_code = \"final_data = beds_and_crit_rates.assign(\\n    max_percentage_infected_for_icu_beds=max_percentage_infected_for_sufficient_icu_beds,\\n)\";\n",
       "                var nbb_cells = Jupyter.notebook.get_cells();\n",
       "                for (var i = 0; i < nbb_cells.length; ++i) {\n",
       "                    if (nbb_cells[i].input_prompt_number == nbb_cell_id) {\n",
       "                        if (nbb_cells[i].get_text() == nbb_unformatted_code) {\n",
       "                             nbb_cells[i].set_text(nbb_formatted_code);\n",
       "                        }\n",
       "                        break;\n",
       "                    }\n",
       "                }\n",
       "            }, 500);\n",
       "            "
      ],
      "text/plain": [
       "<IPython.core.display.Javascript object>"
      ]
     },
     "metadata": {},
     "output_type": "display_data"
    }
   ],
   "source": [
    "final_data = beds_and_crit_rates.assign(\n",
    "    max_percentage_infected_for_icu_beds=max_percentage_infected_for_sufficient_icu_beds,\n",
    ")"
   ]
  },
  {
   "cell_type": "code",
   "execution_count": 38,
   "metadata": {},
   "outputs": [
    {
     "data": {
      "application/javascript": [
       "\n",
       "            setTimeout(function() {\n",
       "                var nbb_cell_id = 38;\n",
       "                var nbb_unformatted_code = \"final_data.to_csv(\\\"max_percentage_of_infected_population_for_enough_icu_beds.csv\\\")\";\n",
       "                var nbb_formatted_code = \"final_data.to_csv(\\\"max_percentage_of_infected_population_for_enough_icu_beds.csv\\\")\";\n",
       "                var nbb_cells = Jupyter.notebook.get_cells();\n",
       "                for (var i = 0; i < nbb_cells.length; ++i) {\n",
       "                    if (nbb_cells[i].input_prompt_number == nbb_cell_id) {\n",
       "                        if (nbb_cells[i].get_text() == nbb_unformatted_code) {\n",
       "                             nbb_cells[i].set_text(nbb_formatted_code);\n",
       "                        }\n",
       "                        break;\n",
       "                    }\n",
       "                }\n",
       "            }, 500);\n",
       "            "
      ],
      "text/plain": [
       "<IPython.core.display.Javascript object>"
      ]
     },
     "metadata": {},
     "output_type": "display_data"
    }
   ],
   "source": [
    "final_data.to_csv(\"max_percentage_of_infected_population_for_enough_icu_beds.csv\")"
   ]
  },
  {
   "cell_type": "code",
   "execution_count": 39,
   "metadata": {},
   "outputs": [
    {
     "data": {
      "text/html": [
       "<div>\n",
       "<style scoped>\n",
       "    .dataframe tbody tr th:only-of-type {\n",
       "        vertical-align: middle;\n",
       "    }\n",
       "\n",
       "    .dataframe tbody tr th {\n",
       "        vertical-align: top;\n",
       "    }\n",
       "\n",
       "    .dataframe thead th {\n",
       "        text-align: right;\n",
       "    }\n",
       "</style>\n",
       "<table border=\"1\" class=\"dataframe\">\n",
       "  <thead>\n",
       "    <tr style=\"text-align: right;\">\n",
       "      <th></th>\n",
       "      <th>critical_beds_per_100k</th>\n",
       "      <th>crit_rate</th>\n",
       "      <th>max_percentage_infected_for_icu_beds</th>\n",
       "    </tr>\n",
       "    <tr>\n",
       "      <th>country</th>\n",
       "      <th></th>\n",
       "      <th></th>\n",
       "      <th></th>\n",
       "    </tr>\n",
       "  </thead>\n",
       "  <tbody>\n",
       "  </tbody>\n",
       "</table>\n",
       "</div>"
      ],
      "text/plain": [
       "Empty DataFrame\n",
       "Columns: [critical_beds_per_100k, crit_rate, max_percentage_infected_for_icu_beds]\n",
       "Index: []"
      ]
     },
     "execution_count": 39,
     "metadata": {},
     "output_type": "execute_result"
    },
    {
     "data": {
      "application/javascript": [
       "\n",
       "            setTimeout(function() {\n",
       "                var nbb_cell_id = 39;\n",
       "                var nbb_unformatted_code = \"final_data[final_data.max_percentage_infected_for_icu_beds.isna()]\";\n",
       "                var nbb_formatted_code = \"final_data[final_data.max_percentage_infected_for_icu_beds.isna()]\";\n",
       "                var nbb_cells = Jupyter.notebook.get_cells();\n",
       "                for (var i = 0; i < nbb_cells.length; ++i) {\n",
       "                    if (nbb_cells[i].input_prompt_number == nbb_cell_id) {\n",
       "                        if (nbb_cells[i].get_text() == nbb_unformatted_code) {\n",
       "                             nbb_cells[i].set_text(nbb_formatted_code);\n",
       "                        }\n",
       "                        break;\n",
       "                    }\n",
       "                }\n",
       "            }, 500);\n",
       "            "
      ],
      "text/plain": [
       "<IPython.core.display.Javascript object>"
      ]
     },
     "metadata": {},
     "output_type": "display_data"
    }
   ],
   "source": [
    "final_data[final_data.max_percentage_infected_for_icu_beds.isna()]"
   ]
  },
  {
   "cell_type": "code",
   "execution_count": null,
   "metadata": {},
   "outputs": [],
   "source": []
  }
 ],
 "metadata": {
  "kernelspec": {
   "display_name": "epifor",
   "language": "python",
   "name": "epifor"
  },
  "language_info": {
   "codemirror_mode": {
    "name": "ipython",
    "version": 3
   },
   "file_extension": ".py",
   "mimetype": "text/x-python",
   "name": "python",
   "nbconvert_exporter": "python",
   "pygments_lexer": "ipython3",
   "version": "3.7.4"
  }
 },
 "nbformat": 4,
 "nbformat_minor": 4
}
